{
  "nbformat": 4,
  "nbformat_minor": 0,
  "metadata": {
    "colab": {
      "provenance": [],
      "authorship_tag": "ABX9TyPgrdZaB8Xv6Rbe8cZLXlH/",
      "include_colab_link": true
    },
    "kernelspec": {
      "name": "python3",
      "display_name": "Python 3"
    },
    "language_info": {
      "name": "python"
    }
  },
  "cells": [
    {
      "cell_type": "markdown",
      "metadata": {
        "id": "view-in-github",
        "colab_type": "text"
      },
      "source": [
        "<a href=\"https://colab.research.google.com/github/andersonsilva95/Aulas_python/blob/master/exerciciospdc.ipynb\" target=\"_parent\"><img src=\"https://colab.research.google.com/assets/colab-badge.svg\" alt=\"Open In Colab\"/></a>"
      ]
    },
    {
      "cell_type": "code",
      "execution_count": 1,
      "metadata": {
        "colab": {
          "base_uri": "https://localhost:8080/"
        },
        "id": "fcuX3PZlDYKe",
        "outputId": "b589083a-aac0-4a70-8fa6-6b4b71a0f803"
      },
      "outputs": [
        {
          "output_type": "stream",
          "name": "stdout",
          "text": [
            "2\n",
            "4\n",
            "6\n",
            "8\n",
            "10\n"
          ]
        }
      ],
      "source": [
        "for i in range(1, 11):\n",
        "    if i % 2 == 0:\n",
        "        print(i)\n"
      ]
    },
    {
      "cell_type": "code",
      "source": [
        "n = int(input(\"Digite um número: \"))\n",
        "for i in range(1, 11):\n",
        "    print(f\"{n} x {i} = {n * i}\")\n"
      ],
      "metadata": {
        "colab": {
          "base_uri": "https://localhost:8080/"
        },
        "id": "HKEAUdqEEf6o",
        "outputId": "9fd597a8-536e-4fa5-ddd1-9bffbcfb7a5f"
      },
      "execution_count": 2,
      "outputs": [
        {
          "output_type": "stream",
          "name": "stdout",
          "text": [
            "Digite um número: 5\n",
            "5 x 1 = 5\n",
            "5 x 2 = 10\n",
            "5 x 3 = 15\n",
            "5 x 4 = 20\n",
            "5 x 5 = 25\n",
            "5 x 6 = 30\n",
            "5 x 7 = 35\n",
            "5 x 8 = 40\n",
            "5 x 9 = 45\n",
            "5 x 10 = 50\n"
          ]
        }
      ]
    },
    {
      "cell_type": "code",
      "source": [
        "soma = sum(range(1, 101))\n",
        "print(\"Soma:\", soma)\n"
      ],
      "metadata": {
        "colab": {
          "base_uri": "https://localhost:8080/"
        },
        "id": "TYLQlg1TEqzg",
        "outputId": "27c42412-b53f-4547-e431-af8a7c3745f1"
      },
      "execution_count": 3,
      "outputs": [
        {
          "output_type": "stream",
          "name": "stdout",
          "text": [
            "Soma: 5050\n"
          ]
        }
      ]
    },
    {
      "cell_type": "code",
      "source": [
        "soma = 0\n",
        "while True:\n",
        "    num = int(input(\"Digite um número (0 para sair): \"))\n",
        "    if num == 0:\n",
        "        break\n",
        "    soma += num\n",
        "print(\"Soma total:\", soma)\n"
      ],
      "metadata": {
        "colab": {
          "base_uri": "https://localhost:8080/"
        },
        "id": "QHwZeMpxFGYA",
        "outputId": "d60a8959-3516-47f4-da33-4114f0e463ba"
      },
      "execution_count": 4,
      "outputs": [
        {
          "output_type": "stream",
          "name": "stdout",
          "text": [
            "Digite um número (0 para sair): 1\n",
            "Digite um número (0 para sair): 2\n",
            "Digite um número (0 para sair): 5\n",
            "Digite um número (0 para sair): 7\n",
            "Digite um número (0 para sair): 4\n",
            "Digite um número (0 para sair): 82\n",
            "Digite um número (0 para sair): 6\n",
            "Digite um número (0 para sair): 0\n",
            "Soma total: 107\n"
          ]
        }
      ]
    },
    {
      "cell_type": "code",
      "source": [
        "n = int(input(\"Digite um número: \"))\n",
        "fatorial = 1\n",
        "for i in range(2, n + 1):\n",
        "    fatorial *= i\n",
        "print(f\"Fatorial de {n} é {fatorial}\")\n"
      ],
      "metadata": {
        "colab": {
          "base_uri": "https://localhost:8080/"
        },
        "id": "BavSD8uhFVog",
        "outputId": "ebd67762-3270-42d7-d8c2-6e758a95b348"
      },
      "execution_count": 5,
      "outputs": [
        {
          "output_type": "stream",
          "name": "stdout",
          "text": [
            "Digite um número: 55\n",
            "Fatorial de 55 é 12696403353658275925965100847566516959580321051449436762275840000000000000\n"
          ]
        }
      ]
    },
    {
      "cell_type": "code",
      "source": [
        "n = int(input(\"Digite um número: \"))\n",
        "eh_primo = all(n % i != 0 for i in range(2, int(n**0.5) + 1)) and n > 1\n",
        "print(\"É primo\" if eh_primo else \"Não é primo\")\n"
      ],
      "metadata": {
        "colab": {
          "base_uri": "https://localhost:8080/"
        },
        "id": "Zy0HOt0xFfl4",
        "outputId": "b9cdc6d3-c952-4529-b69b-af9b60a21404"
      },
      "execution_count": 7,
      "outputs": [
        {
          "output_type": "stream",
          "name": "stdout",
          "text": [
            "Digite um número: 5\n",
            "É primo\n"
          ]
        }
      ]
    },
    {
      "cell_type": "code",
      "source": [
        "for n in range(2, 51):\n",
        "    if all(n % i != 0 for i in range(2, int(n**0.5) + 1)):\n",
        "        print(n)\n"
      ],
      "metadata": {
        "colab": {
          "base_uri": "https://localhost:8080/"
        },
        "id": "ko09NNqPFn53",
        "outputId": "e3648785-5652-444f-ee4a-14165a5ad6d0"
      },
      "execution_count": 8,
      "outputs": [
        {
          "output_type": "stream",
          "name": "stdout",
          "text": [
            "2\n",
            "3\n",
            "5\n",
            "7\n",
            "11\n",
            "13\n",
            "17\n",
            "19\n",
            "23\n",
            "29\n",
            "31\n",
            "37\n",
            "41\n",
            "43\n",
            "47\n"
          ]
        }
      ]
    },
    {
      "cell_type": "code",
      "source": [
        "maior = float('-inf')\n",
        "while True:\n",
        "    num = int(input(\"Digite um número (negativo para sair): \"))\n",
        "    if num < 0:\n",
        "        break\n",
        "    if num > maior:\n",
        "        maior = num\n",
        "print(\"Maior número digitado:\", maior)\n"
      ],
      "metadata": {
        "colab": {
          "base_uri": "https://localhost:8080/"
        },
        "id": "eEHcdXNwFtPf",
        "outputId": "f60a5221-77cd-4aa6-aaf9-c4473a0b2ace"
      },
      "execution_count": 9,
      "outputs": [
        {
          "output_type": "stream",
          "name": "stdout",
          "text": [
            "Digite um número (negativo para sair): 55\n",
            "Digite um número (negativo para sair): 10\n",
            "Digite um número (negativo para sair): 0\n",
            "Digite um número (negativo para sair): -1\n",
            "Maior número digitado: 55\n"
          ]
        }
      ]
    },
    {
      "cell_type": "code",
      "source": [
        "a, b = 0, 1\n",
        "for _ in range(10):\n",
        "    print(a)\n",
        "    a, b = b, a + b\n"
      ],
      "metadata": {
        "colab": {
          "base_uri": "https://localhost:8080/"
        },
        "id": "oUdjvSz4F4dJ",
        "outputId": "cafb8927-8cda-483e-b4a6-64582524b503"
      },
      "execution_count": 10,
      "outputs": [
        {
          "output_type": "stream",
          "name": "stdout",
          "text": [
            "0\n",
            "1\n",
            "1\n",
            "2\n",
            "3\n",
            "5\n",
            "8\n",
            "13\n",
            "21\n",
            "34\n"
          ]
        }
      ]
    },
    {
      "cell_type": "code",
      "source": [
        "n = int(input(\"Digite um número: \"))\n",
        "soma_digitos = sum(int(d) for d in str(n))\n",
        "print(\"Prova dos nove:\", soma_digitos % 9)\n"
      ],
      "metadata": {
        "colab": {
          "base_uri": "https://localhost:8080/"
        },
        "id": "2oFczqv0GA3a",
        "outputId": "dd762e32-6de9-47de-cea4-8b4b3b746fb6"
      },
      "execution_count": 15,
      "outputs": [
        {
          "output_type": "stream",
          "name": "stdout",
          "text": [
            "Digite um número: 5\n",
            "Prova dos nove: 5\n"
          ]
        }
      ]
    }
  ]
}